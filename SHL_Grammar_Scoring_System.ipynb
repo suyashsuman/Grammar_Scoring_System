{
 "cells": [
  {
   "cell_type": "markdown",
   "id": "4c7a6510",
   "metadata": {},
   "source": [
    "# Assesment: Grammar Scoring Engine"
   ]
  },
  {
   "cell_type": "markdown",
   "id": "2e9914e6",
   "metadata": {},
   "source": [
    "=== Project Initialization ===\n",
    "\n",
    "Importing essential libraries for audio processing, data handling, and machine learning"
   ]
  },
  {
   "cell_type": "code",
   "execution_count": 1,
   "id": "3c16cdcb",
   "metadata": {},
   "outputs": [
    {
     "name": "stdout",
     "output_type": "stream",
     "text": [
      "Ready to build the Grammar Scoring Engine!\n"
     ]
    }
   ],
   "source": [
    "import numpy as np              # For numerical operations\n",
    "import pandas as pd             # For handling datasets (CSV files, DataFrames)\n",
    "import librosa                  # For audio processing and feature extraction\n",
    "import torch                    # For deep learning support, if needed\n",
    "\n",
    "print(\"Ready to build the Grammar Scoring Engine!\")\n"
   ]
  },
  {
   "cell_type": "markdown",
   "id": "7b4fee86",
   "metadata": {},
   "source": [
    "# Loading CSV's"
   ]
  },
  {
   "cell_type": "code",
   "execution_count": 2,
   "id": "7d5ef681",
   "metadata": {},
   "outputs": [
    {
     "name": "stdout",
     "output_type": "stream",
     "text": [
      "Train shape: (444, 2)\n",
      "Test shape: (195, 1)\n"
     ]
    },
    {
     "data": {
      "text/html": [
       "<div>\n",
       "<style scoped>\n",
       "    .dataframe tbody tr th:only-of-type {\n",
       "        vertical-align: middle;\n",
       "    }\n",
       "\n",
       "    .dataframe tbody tr th {\n",
       "        vertical-align: top;\n",
       "    }\n",
       "\n",
       "    .dataframe thead th {\n",
       "        text-align: right;\n",
       "    }\n",
       "</style>\n",
       "<table border=\"1\" class=\"dataframe\">\n",
       "  <thead>\n",
       "    <tr style=\"text-align: right;\">\n",
       "      <th></th>\n",
       "      <th>filename</th>\n",
       "      <th>label</th>\n",
       "    </tr>\n",
       "  </thead>\n",
       "  <tbody>\n",
       "    <tr>\n",
       "      <th>0</th>\n",
       "      <td>audio_1261.wav</td>\n",
       "      <td>1.0</td>\n",
       "    </tr>\n",
       "    <tr>\n",
       "      <th>1</th>\n",
       "      <td>audio_942.wav</td>\n",
       "      <td>1.5</td>\n",
       "    </tr>\n",
       "    <tr>\n",
       "      <th>2</th>\n",
       "      <td>audio_1110.wav</td>\n",
       "      <td>1.5</td>\n",
       "    </tr>\n",
       "    <tr>\n",
       "      <th>3</th>\n",
       "      <td>audio_1024.wav</td>\n",
       "      <td>1.5</td>\n",
       "    </tr>\n",
       "    <tr>\n",
       "      <th>4</th>\n",
       "      <td>audio_538.wav</td>\n",
       "      <td>2.0</td>\n",
       "    </tr>\n",
       "  </tbody>\n",
       "</table>\n",
       "</div>"
      ],
      "text/plain": [
       "         filename  label\n",
       "0  audio_1261.wav    1.0\n",
       "1   audio_942.wav    1.5\n",
       "2  audio_1110.wav    1.5\n",
       "3  audio_1024.wav    1.5\n",
       "4   audio_538.wav    2.0"
      ]
     },
     "execution_count": 2,
     "metadata": {},
     "output_type": "execute_result"
    }
   ],
   "source": [
    "import pandas as pd\n",
    "\n",
    "# The train.csv contains filenames and their corresponding grammar scores\n",
    "# The test.csv contains filenames for which we have to predict grammar scores\n",
    "\n",
    "train_df = pd.read_csv(\"shl-intern-hiring-assessment/dataset/train.csv\")\n",
    "test_df = pd.read_csv(\"shl-intern-hiring-assessment/dataset/test.csv\")\n",
    "\n",
    "# Checking the number of samples in each dataset and inspecting the first few rows of training data\n",
    "print(\"Train shape:\", train_df.shape)\n",
    "print(\"Test shape:\", test_df.shape)\n",
    "train_df.head()\n"
   ]
  },
  {
   "cell_type": "markdown",
   "id": "82d57740",
   "metadata": {},
   "source": [
    "# Exploratory Data Check"
   ]
  },
  {
   "cell_type": "code",
   "execution_count": 3,
   "id": "510ad71a",
   "metadata": {},
   "outputs": [
    {
     "name": "stdout",
     "output_type": "stream",
     "text": [
      "Column Data Types:\n",
      "filename     object\n",
      "label       float64\n",
      "dtype: object\n",
      "\n",
      "Missing Values:\n",
      "filename    0\n",
      "label       0\n",
      "dtype: int64\n",
      "\n",
      "Grammar Score Distribution:\n",
      "label\n",
      "1.0      1\n",
      "1.5      3\n",
      "2.0     70\n",
      "2.5     40\n",
      "3.0     87\n",
      "3.5     23\n",
      "4.0     52\n",
      "4.5     58\n",
      "5.0    110\n",
      "Name: count, dtype: int64\n"
     ]
    }
   ],
   "source": [
    "# Check the data types of each column\n",
    "\n",
    "print(\"Column Data Types:\")\n",
    "print(train_df.dtypes)\n",
    "\n",
    "# Check for any missing values in the training set\n",
    "\n",
    "print(\"\\nMissing Values:\")\n",
    "print(train_df.isnull().sum())\n",
    "\n",
    "# Check distribution of grammar scores (labels)\n",
    "\n",
    "print(\"\\nGrammar Score Distribution:\")\n",
    "print(train_df['label'].value_counts().sort_index())\n"
   ]
  },
  {
   "cell_type": "markdown",
   "id": "afb78f86",
   "metadata": {},
   "source": [
    "# Audio Visualization & Feature Exploration"
   ]
  },
  {
   "cell_type": "code",
   "execution_count": 4,
   "id": "230845bd",
   "metadata": {},
   "outputs": [
    {
     "name": "stdout",
     "output_type": "stream",
     "text": [
      "Visualizing Sample Audio: audio_1261.wav\n"
     ]
    },
    {
     "data": {
      "image/png": "[encoded data removed]",
      "text/plain": [
       "<Figure size 1000x300 with 1 Axes>"
      ]
     },
     "metadata": {},
     "output_type": "display_data"
    },
    {
     "name": "stdout",
     "output_type": "stream",
     "text": [
      "MFCC shape: (13, 1878)\n"
     ]
    },
    {
     "data": {
      "image/png": "[encoded data removed]",
      "text/plain": [
       "<Figure size 1000x400 with 2 Axes>"
      ]
     },
     "metadata": {},
     "output_type": "display_data"
    }
   ],
   "source": [
    "import librosa\n",
    "import librosa.display\n",
    "import matplotlib.pyplot as plt\n",
    "\n",
    "\n",
    "# Pick a sample audio from training data\n",
    "sample_filename = train_df.iloc[0]['filename']\n",
    "sample_path = \"shl-intern-hiring-assessment/dataset/audios_train/\" + sample_filename\n",
    "print(f\"Visualizing Sample Audio: {sample_filename}\")\n",
    "\n",
    "# Load the audio file (no resampling to keep original quality)\n",
    "y, sr = librosa.load(sample_path, sr=None)\n",
    "\n",
    "# Plot the waveform to observe amplitude variation over time\n",
    "plt.figure(figsize=(10, 3))\n",
    "librosa.display.waveshow(y, sr=sr)\n",
    "plt.title(\"Waveform\")\n",
    "plt.xlabel(\"Time (s)\")\n",
    "plt.ylabel(\"Amplitude\")\n",
    "plt.show()\n",
    "\n",
    "# Extract MFCC (Mel-Frequency Cepstral Coefficients)\n",
    "mfcc = librosa.feature.mfcc(y=y, sr=sr, n_mfcc=13)\n",
    "print(\"MFCC shape:\", mfcc.shape)\n",
    "\n",
    "# Visualize MFCC to inspect frequency distribution over time\n",
    "plt.figure(figsize=(10, 4))\n",
    "librosa.display.specshow(mfcc, x_axis='time', sr=sr)\n",
    "plt.colorbar()\n",
    "plt.title(\"MFCC\")\n",
    "plt.tight_layout()\n",
    "plt.show()\n"
   ]
  },
  {
   "cell_type": "markdown",
   "id": "03f37050",
   "metadata": {},
   "source": [
    "# Audio Feature Extraction Pipeline"
   ]
  },
  {
   "cell_type": "markdown",
   "id": "202d7d19",
   "metadata": {},
   "source": [
    "We define a custom extract_features function to extract relevant audio features from each file. These features capture various speech characteristics that may correlate with grammatical fluency, such as:\n",
    "\n",
    "MFCCs: Capture timbral and phonetic information.\n",
    "\n",
    "Chroma STFT: Represent harmonic pitch class content.\n",
    "\n",
    "Spectral Contrast: Describe differences in energy across frequency bands.\n",
    "\n",
    "Zero-Crossing Rate: Indicates signal noisiness or sharpness.\n",
    "\n",
    "Root Mean Square Energy (RMS): Measures signal loudness and dynamics.\n",
    "\n",
    "All features are aggregated using mean and standard deviation across time, resulting in a fixed-length feature vector per audio sample."
   ]
  },
  {
   "cell_type": "code",
   "execution_count": 5,
   "id": "b8b6e617",
   "metadata": {},
   "outputs": [],
   "source": [
    "import librosa\n",
    "import numpy as np\n",
    "\n",
    "def extract_features(file_path):\n",
    "    \"\"\"\n",
    "    Extracts a set of statistical audio features from a single audio file.\n",
    "\n",
    "    Parameters:\n",
    "        file_path (str): Path to the audio file.\n",
    "\n",
    "    Returns:\n",
    "        features (list): List of aggregated audio features (mean + std) for each type.\n",
    "    \"\"\"\n",
    "\n",
    "    # Load audio with original sampling rate\n",
    "    y, sr = librosa.load(file_path, sr=None)\n",
    "    features = []\n",
    "\n",
    "    # === 1. MFCCs (Mel Frequency Cepstral Coefficients) ===\n",
    "\n",
    "    mfccs = librosa.feature.mfcc(y=y, sr=sr, n_mfcc=13)\n",
    "    features.extend(np.mean(mfccs, axis=1))  # Mean across time\n",
    "    features.extend(np.std(mfccs, axis=1))   # Variance across time\n",
    "\n",
    "    # === 2. Chroma STFT ===\n",
    "    \n",
    "    chroma = librosa.feature.chroma_stft(y=y, sr=sr)\n",
    "    features.extend(np.mean(chroma, axis=1))\n",
    "    features.extend(np.std(chroma, axis=1))\n",
    "\n",
    "    # === 3. Spectral Contrast ===\n",
    "    \n",
    "    contrast = librosa.feature.spectral_contrast(y=y, sr=sr)\n",
    "    features.extend(np.mean(contrast, axis=1))\n",
    "    features.extend(np.std(contrast, axis=1))\n",
    "\n",
    "    # === 4. Zero-Crossing Rate ===\n",
    " \n",
    "    zcr = librosa.feature.zero_crossing_rate(y)\n",
    "    features.append(np.mean(zcr))\n",
    "    features.append(np.std(zcr))\n",
    "\n",
    "    # === 5. Root Mean Square Energy ===\n",
    "    \n",
    "    rms = librosa.feature.rms(y=y)\n",
    "    features.append(np.mean(rms))\n",
    "    features.append(np.std(rms))\n",
    "\n",
    "    return features\n",
    "\n"
   ]
  },
  {
   "cell_type": "code",
   "execution_count": 6,
   "id": "212408c9",
   "metadata": {},
   "outputs": [
    {
     "name": "stdout",
     "output_type": "stream",
     "text": [
      "Requirement already satisfied: tqdm in c:\\users\\lenovo\\anaconda3\\lib\\site-packages (4.64.0)\n",
      "Requirement already satisfied: colorama in c:\\users\\lenovo\\anaconda3\\lib\\site-packages (from tqdm) (0.4.4)\n"
     ]
    }
   ],
   "source": [
    "!pip install tqdm\n",
    "from tqdm import tqdm"
   ]
  },
  {
   "cell_type": "markdown",
   "id": "7d5a6dec",
   "metadata": {},
   "source": [
    "# Training Set Feature Extraction"
   ]
  },
  {
   "cell_type": "code",
   "execution_count": 7,
   "id": "8bb9c774",
   "metadata": {},
   "outputs": [
    {
     "name": "stderr",
     "output_type": "stream",
     "text": [
      "Extracting features: 100%|███████████████████████████████████████████████████████████| 444/444 [03:11<00:00,  2.31it/s]"
     ]
    },
    {
     "name": "stdout",
     "output_type": "stream",
     "text": [
      "Feature extraction complete!\n",
      "X shape: (444, 68)\n",
      "y shape: (444,)\n"
     ]
    },
    {
     "name": "stderr",
     "output_type": "stream",
     "text": [
      "\n"
     ]
    }
   ],
   "source": [
    "import os\n",
    "\n",
    "# Path to the training audio folder\n",
    "audio_folder = \"shl-intern-hiring-assessment/dataset/audios_train/\"\n",
    "\n",
    "# Lists to store extracted features and corresponding labels\n",
    "X = []\n",
    "y = []\n",
    "\n",
    "# Iterate through each row in the training DataFrame\n",
    "for idx, row in tqdm(train_df.iterrows(), total=len(train_df), desc=\"Extracting features\"):\n",
    "    file_path = os.path.join(audio_folder, row['filename'])  # Full path to the audio file\n",
    "    features = extract_features(file_path)  # Extract audio features\n",
    "    X.append(features)  # Add feature vector to dataset\n",
    "    y.append(row['label'])  # Add label to target list\n",
    "\n",
    "# Convert lists to NumPy arrays for model training\n",
    "X = np.array(X)\n",
    "y = np.array(y)\n",
    "\n",
    "print(\"Feature extraction complete!\")\n",
    "print(\"X shape:\", X.shape)\n",
    "print(\"y shape:\", y.shape)\n"
   ]
  },
  {
   "cell_type": "markdown",
   "id": "9e887dd2",
   "metadata": {},
   "source": [
    "# Splitting of the dataset"
   ]
  },
  {
   "cell_type": "code",
   "execution_count": 8,
   "id": "9ec50416",
   "metadata": {},
   "outputs": [],
   "source": [
    "from sklearn.model_selection import train_test_split\n",
    "\n",
    "# Split the dataset into training and validation sets (80% train, 20% val)\n",
    "X_train, X_val, y_train, y_val = train_test_split(X, y, test_size=0.2, random_state=42)\n"
   ]
  },
  {
   "cell_type": "markdown",
   "id": "3305cc26",
   "metadata": {},
   "source": [
    "# Model Training and Evaluation: Random Forest Regressor"
   ]
  },
  {
   "cell_type": "code",
   "execution_count": 9,
   "id": "aab55914",
   "metadata": {},
   "outputs": [
    {
     "name": "stdout",
     "output_type": "stream",
     "text": [
      "Validation MSE: 0.7975\n",
      "Validation Pearson Correlation: 0.6782\n"
     ]
    }
   ],
   "source": [
    "from sklearn.ensemble import RandomForestRegressor\n",
    "from sklearn.metrics import mean_squared_error\n",
    "from scipy.stats import pearsonr\n",
    "\n",
    "# Initialize and train a Random Forest Regressor\n",
    "model = RandomForestRegressor(n_estimators=100, random_state=42)\n",
    "model.fit(X_train, y_train)\n",
    "\n",
    "# Predict on validation set\n",
    "y_pred = model.predict(X_val)\n",
    "\n",
    "\n",
    "# Evaluate model performance using MSE and Pearson Correlation\n",
    "mse = mean_squared_error(y_val, y_pred)\n",
    "pearson_corr, _ = pearsonr(y_val, y_pred)\n",
    "\n",
    "print(f\"Validation MSE: {mse:.4f}\")  # Lower is better\n",
    "print(f\"Validation Pearson Correlation: {pearson_corr:.4f}\")  # Closer to 1 means better correlation\n"
   ]
  },
  {
   "cell_type": "markdown",
   "id": "12671420",
   "metadata": {},
   "source": [
    "# Model Training and Evaluation: XGBoost Regressor\n"
   ]
  },
  {
   "cell_type": "code",
   "execution_count": 10,
   "id": "28564369",
   "metadata": {},
   "outputs": [
    {
     "name": "stdout",
     "output_type": "stream",
     "text": [
      "[XGBoost] MSE: 0.8438\n",
      "[XGBoost] Pearson Correlation: 0.6278\n"
     ]
    }
   ],
   "source": [
    "from xgboost import XGBRegressor\n",
    "\n",
    "# Initialize XGBoost Regressor with specified hyperparameters\n",
    "xgb_model = XGBRegressor(n_estimators=200, max_depth=5, learning_rate=0.1, random_state=42)\n",
    "\n",
    "# Train the model on the training data\n",
    "xgb_model.fit(X_train, y_train)\n",
    "\n",
    "# Predict grammar scores on the validation set\n",
    "xgb_pred = xgb_model.predict(X_val)\n",
    "\n",
    "from sklearn.metrics import mean_squared_error\n",
    "from scipy.stats import pearsonr\n",
    "\n",
    "# Calculate Mean Squared Error\n",
    "mse = mean_squared_error(y_val, xgb_pred)\n",
    "\n",
    "# Calculate Pearson Correlation to measure prediction alignment with ground truth\n",
    "pearson_corr, _ = pearsonr(y_val, xgb_pred)\n",
    "\n",
    "# Print evaluation results\n",
    "print(f\"[XGBoost] MSE: {mse:.4f}\")\n",
    "print(f\"[XGBoost] Pearson Correlation: {pearson_corr:.4f}\")\n",
    "\n"
   ]
  },
  {
   "cell_type": "markdown",
   "id": "5ba69b96",
   "metadata": {},
   "source": [
    "We experimented with two different regression models to predict grammar scores:\n",
    "\n",
    "--Random Forest Regressor--\n",
    "\n",
    "Validation MSE: 0.7975\n",
    "\n",
    "Pearson Correlation: 0.6782\n",
    "\n",
    "--XGBoost Regressor--\n",
    "\n",
    "Validation MSE: 0.8438\n",
    "\n",
    "Pearson Correlation: 0.6278\n",
    "\n",
    "Since the Random Forest Regressor yielded better performance both in terms of lower Mean Squared Error (MSE) and higher Pearson Correlation, we will proceed with it for generating final predictions on the test set."
   ]
  },
  {
   "cell_type": "markdown",
   "id": "d8789709",
   "metadata": {},
   "source": [
    "# Test Set Feature Extraction"
   ]
  },
  {
   "cell_type": "code",
   "execution_count": 11,
   "id": "bb1c0ada",
   "metadata": {},
   "outputs": [
    {
     "name": "stderr",
     "output_type": "stream",
     "text": [
      "100%|████████████████████████████████████████████████████████████████████████████████| 195/195 [01:17<00:00,  2.52it/s]"
     ]
    },
    {
     "name": "stdout",
     "output_type": "stream",
     "text": [
      "Test feature extraction complete. Shape: (195, 68)\n"
     ]
    },
    {
     "name": "stderr",
     "output_type": "stream",
     "text": [
      "\n"
     ]
    }
   ],
   "source": [
    "import os\n",
    "from tqdm import tqdm\n",
    "\n",
    "# Path to the test audio folder\n",
    "test_audio_folder = \"shl-intern-hiring-assessment/dataset/audios_test/\"\n",
    "\n",
    "# Lists to store features and corresponding filenames\n",
    "X_test = []\n",
    "filenames = []\n",
    "\n",
    "# Loop through each test audio file and extract features\n",
    "for idx, row in tqdm(test_df.iterrows(), total=len(test_df)):\n",
    "    file_path = os.path.join(test_audio_folder, row['filename'])\n",
    "    features = extract_features(file_path)\n",
    "    X_test.append(features)\n",
    "    filenames.append(row['filename'])\n",
    "\n",
    "# Convert features to NumPy array\n",
    "X_test = np.array(X_test)\n",
    "print(\"Test feature extraction complete. Shape:\", X_test.shape)\n",
    "\n",
    "\n",
    "\n"
   ]
  },
  {
   "cell_type": "markdown",
   "id": "5c741bd0",
   "metadata": {},
   "source": [
    "# Generating Submission File"
   ]
  },
  {
   "cell_type": "code",
   "execution_count": 12,
   "id": "30939f3d",
   "metadata": {},
   "outputs": [
    {
     "name": "stdout",
     "output_type": "stream",
     "text": [
      "Submission file saved as submission.csv\n"
     ]
    }
   ],
   "source": [
    "# Make predictions using the trained Random Forest model\n",
    "test_preds = model.predict(X_test)  \n",
    "\n",
    "# Create submission DataFrame using the test_df structure\n",
    "submission = test_df.copy()\n",
    "submission['label'] = test_preds\n",
    "\n",
    "# Save submission file to specified directory\n",
    "submission.to_csv(\"shl-intern-hiring-assessment/dataset/submission.csv\", index=False)\n",
    "print(\"Submission file saved as submission.csv\")\n"
   ]
  },
  {
   "cell_type": "markdown",
   "id": "a0bb2059",
   "metadata": {},
   "source": [
    "# Actual vs Predicted Grammar Scores (Validation Set)\n",
    "\n",
    "\n"
   ]
  },
  {
   "cell_type": "markdown",
   "id": "5642f734",
   "metadata": {},
   "source": [
    "To interpret model performance, we visualize how closely the predicted grammar scores match the actual scores on the validation set.\n",
    "The red dashed diagonal line represents a perfect prediction (where predicted = actual)."
   ]
  },
  {
   "cell_type": "code",
   "execution_count": 13,
   "id": "dc9153ca",
   "metadata": {},
   "outputs": [
    {
     "data": {
      "image/png": "[encoded data removed]",
      "text/plain": [
       "<Figure size 600x600 with 1 Axes>"
      ]
     },
     "metadata": {},
     "output_type": "display_data"
    }
   ],
   "source": [
    "import matplotlib.pyplot as plt\n",
    "\n",
    "plt.figure(figsize=(6, 6))\n",
    "plt.scatter(y_val, y_pred, alpha=0.6, label='Predictions')\n",
    "plt.plot([0, 5], [0, 5], color='red', linestyle='--', label='Ideal Prediction Line')\n",
    "plt.xlabel(\"Actual Scores\")\n",
    "plt.ylabel(\"Predicted Scores\")\n",
    "plt.title(\"Actual vs Predicted Scores (Random Forest)\")\n",
    "plt.grid(True)\n",
    "plt.legend()\n",
    "plt.show()\n"
   ]
  },
  {
   "cell_type": "markdown",
   "id": "584c830a",
   "metadata": {},
   "source": [
    "# Sample Predictions on Training Audio Files"
   ]
  },
  {
   "cell_type": "markdown",
   "id": "268978b9",
   "metadata": {},
   "source": [
    "To qualitatively inspect our model’s performance, we randomly select 5 audio files from the training dataset and compare their actual grammar score with the predicted score from the Random Forest model."
   ]
  },
  {
   "cell_type": "code",
   "execution_count": 14,
   "id": "4481227f",
   "metadata": {},
   "outputs": [
    {
     "name": "stdout",
     "output_type": "stream",
     "text": [
      "Sample predictions from training data:\n",
      "\n",
      "audio_813.wav → Actual: 3.0, Predicted: 2.85\n",
      "audio_1332.wav → Actual: 4.0, Predicted: 3.70\n",
      "audio_414.wav → Actual: 5.0, Predicted: 4.83\n",
      "audio_961.wav → Actual: 4.5, Predicted: 4.34\n",
      "audio_744.wav → Actual: 2.5, Predicted: 2.92\n"
     ]
    }
   ],
   "source": [
    "import random\n",
    "\n",
    "# Randomly sample 5 training audio files to evaluate model predictions\n",
    "print(\"Sample predictions from training data:\\n\")\n",
    "\n",
    "for i in random.sample(range(len(train_df)), 5):\n",
    "    filename = train_df.iloc[i]['filename']\n",
    "    true_label = train_df.iloc[i]['label']\n",
    "    file_path = os.path.join(audio_folder, filename)\n",
    "\n",
    "    # Extract features and reshape for prediction\n",
    "    features = extract_features(file_path)\n",
    "    features = np.array(features).reshape(1, -1)\n",
    "\n",
    "    # Predict grammar score using trained Random Forest model\n",
    "    pred = model.predict(features)[0]\n",
    "\n",
    "    # Print actual vs predicted score\n",
    "    print(f\"{filename} → Actual: {true_label}, Predicted: {pred:.2f}\")\n"
   ]
  },
  {
   "cell_type": "markdown",
   "id": "bf34efac",
   "metadata": {},
   "source": [
    "# Project Report: Grammar Scoring Engine"
   ]
  },
  {
   "cell_type": "markdown",
   "id": "0ce259f4",
   "metadata": {},
   "source": [
    "# Objective\n"
   ]
  },
  {
   "cell_type": "markdown",
   "id": "e64b6854",
   "metadata": {},
   "source": [
    "The goal of this project was to build a Grammar Scoring Engine that takes in spoken audio samples and predicts a continuous grammar score between 0 and 5, based on the MOS Likert Grammar Score rubric. We were provided with a labeled training dataset of 444 audio files and an unlabeled test set of 195 samples."
   ]
  },
  {
   "cell_type": "markdown",
   "id": "5b62b718",
   "metadata": {},
   "source": [
    "# Approach & Preprocessing"
   ]
  },
  {
   "cell_type": "markdown",
   "id": "ef888a8e",
   "metadata": {},
   "source": [
    "We started by exploring the data, checking label distributions, and inspecting the structure of the audio files. Each audio file was then preprocessed to extract meaningful features using the librosa library. The following audio features were extracted:\n",
    "\n",
    "MFCCs: Captures the timbral structure of speech.\n",
    "\n",
    "Chroma STFT: Highlights harmonic content and pitch classes.\n",
    "\n",
    "Spectral Contrast: Reflects articulation and clarity.\n",
    "\n",
    "Zero-Crossing Rate: Indicates signal sharpness.\n",
    "\n",
    "Root Mean Square Energy (RMS): Represents loudness and clarity.\n",
    "\n",
    "We calculated both the mean and standard deviation for each feature type to capture their temporal dynamics."
   ]
  },
  {
   "cell_type": "markdown",
   "id": "b4ce7ffc",
   "metadata": {},
   "source": [
    "# Model Pipeline"
   ]
  },
  {
   "cell_type": "markdown",
   "id": "84ebe591",
   "metadata": {},
   "source": [
    "After feature extraction, we created a modeling pipeline as follows:\n",
    "\n",
    "Train/Test Split: The dataset was split into training and validation sets (80/20).\n",
    "\n",
    "Model Training: We experimented with two regressors:\n",
    "\n",
    "RandomForestRegressor\n",
    "\n",
    "XGBoostRegressor\n",
    "\n",
    "Both models were trained using the extracted feature matrix (X) and grammar labels (y).\n",
    "\n",
    "Evaluation: We used Mean Squared Error (MSE) and Pearson Correlation as our primary metrics for model evaluation."
   ]
  },
  {
   "cell_type": "markdown",
   "id": "1e6b00ad",
   "metadata": {},
   "source": [
    "# Results & Model Selection"
   ]
  },
  {
   "cell_type": "markdown",
   "id": "19b312ec",
   "metadata": {},
   "source": [
    "--Random Forest Regressor--\n",
    "\n",
    "Validation MSE: 0.7975\n",
    "\n",
    "Pearson Correlation: 0.6782\n",
    "\n",
    "--XGBoost Regressor--\n",
    "\n",
    "Validation MSE: 0.8438\n",
    "\n",
    "Pearson Correlation: 0.6278\n",
    "    \n",
    "Random Forest showed slightly better performance in both metrics, so we continued with it for the final submission.\n",
    "\n",
    "We also visualized the Actual vs. Predicted scores, and tested the model against random samples from the training set to verify that the predictions made sense contextually."
   ]
  },
  {
   "cell_type": "markdown",
   "id": "63538250",
   "metadata": {},
   "source": [
    "# Final Submission"
   ]
  },
  {
   "cell_type": "markdown",
   "id": "49419494",
   "metadata": {},
   "source": [
    "We applied the trained Random Forest model on the test set after extracting features using the same process. The predicted scores were saved in submission.csv, formatted as required.\n",
    "\n"
   ]
  },
  {
   "cell_type": "code",
   "execution_count": null,
   "id": "257a3714",
   "metadata": {},
   "outputs": [],
   "source": []
  }
 ],
 "metadata": {
  "kernelspec": {
   "display_name": "Python (grammar-env)",
   "language": "python",
   "name": "grammar-env"
  },
  "language_info": {
   "codemirror_mode": {
    "name": "ipython",
    "version": 3
   },
   "file_extension": ".py",
   "mimetype": "text/x-python",
   "name": "python",
   "nbconvert_exporter": "python",
   "pygments_lexer": "ipython3",
   "version": "3.8.3"
  }
 },
 "nbformat": 4,
 "nbformat_minor": 5
}
